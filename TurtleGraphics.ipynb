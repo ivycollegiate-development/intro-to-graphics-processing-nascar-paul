{
 "cells": [
  {
   "cell_type": "code",
   "execution_count": 1,
   "metadata": {},
   "outputs": [
    {
     "ename": "TclError",
     "evalue": "no display name and no $DISPLAY environment variable",
     "output_type": "error",
     "traceback": [
      "\u001b[0;31m---------------------------------------------------------------------------\u001b[0m",
      "\u001b[0;31mTclError\u001b[0m                                  Traceback (most recent call last)",
      "Cell \u001b[0;32mIn[1], line 2\u001b[0m\n\u001b[1;32m      1\u001b[0m \u001b[38;5;28;01mimport\u001b[39;00m \u001b[38;5;21;01mturtle\u001b[39;00m\n\u001b[0;32m----> 2\u001b[0m my_turtle \u001b[38;5;241m=\u001b[39m \u001b[43mturtle\u001b[49m\u001b[38;5;241;43m.\u001b[39;49m\u001b[43mTurtle\u001b[49m\u001b[43m(\u001b[49m\u001b[43m)\u001b[49m\n\u001b[1;32m      3\u001b[0m my_turtle\u001b[38;5;241m.\u001b[39mforward(\u001b[38;5;241m100\u001b[39m)\n\u001b[1;32m      4\u001b[0m turtle\u001b[38;5;241m.\u001b[39mdone()\n",
      "File \u001b[0;32m/usr/local/python/3.12.1/lib/python3.12/turtle.py:3875\u001b[0m, in \u001b[0;36mTurtle.__init__\u001b[0;34m(self, shape, undobuffersize, visible)\u001b[0m\n\u001b[1;32m   3870\u001b[0m \u001b[38;5;28;01mdef\u001b[39;00m \u001b[38;5;21m__init__\u001b[39m(\u001b[38;5;28mself\u001b[39m,\n\u001b[1;32m   3871\u001b[0m              shape\u001b[38;5;241m=\u001b[39m_CFG[\u001b[38;5;124m\"\u001b[39m\u001b[38;5;124mshape\u001b[39m\u001b[38;5;124m\"\u001b[39m],\n\u001b[1;32m   3872\u001b[0m              undobuffersize\u001b[38;5;241m=\u001b[39m_CFG[\u001b[38;5;124m\"\u001b[39m\u001b[38;5;124mundobuffersize\u001b[39m\u001b[38;5;124m\"\u001b[39m],\n\u001b[1;32m   3873\u001b[0m              visible\u001b[38;5;241m=\u001b[39m_CFG[\u001b[38;5;124m\"\u001b[39m\u001b[38;5;124mvisible\u001b[39m\u001b[38;5;124m\"\u001b[39m]):\n\u001b[1;32m   3874\u001b[0m     \u001b[38;5;28;01mif\u001b[39;00m Turtle\u001b[38;5;241m.\u001b[39m_screen \u001b[38;5;129;01mis\u001b[39;00m \u001b[38;5;28;01mNone\u001b[39;00m:\n\u001b[0;32m-> 3875\u001b[0m         Turtle\u001b[38;5;241m.\u001b[39m_screen \u001b[38;5;241m=\u001b[39m \u001b[43mScreen\u001b[49m\u001b[43m(\u001b[49m\u001b[43m)\u001b[49m\n\u001b[1;32m   3876\u001b[0m     RawTurtle\u001b[38;5;241m.\u001b[39m\u001b[38;5;21m__init__\u001b[39m(\u001b[38;5;28mself\u001b[39m, Turtle\u001b[38;5;241m.\u001b[39m_screen,\n\u001b[1;32m   3877\u001b[0m                        shape\u001b[38;5;241m=\u001b[39mshape,\n\u001b[1;32m   3878\u001b[0m                        undobuffersize\u001b[38;5;241m=\u001b[39mundobuffersize,\n\u001b[1;32m   3879\u001b[0m                        visible\u001b[38;5;241m=\u001b[39mvisible)\n",
      "File \u001b[0;32m/usr/local/python/3.12.1/lib/python3.12/turtle.py:3730\u001b[0m, in \u001b[0;36mScreen\u001b[0;34m()\u001b[0m\n\u001b[1;32m   3726\u001b[0m \u001b[38;5;250m\u001b[39m\u001b[38;5;124;03m\"\"\"Return the singleton screen object.\u001b[39;00m\n\u001b[1;32m   3727\u001b[0m \u001b[38;5;124;03mIf none exists at the moment, create a new one and return it,\u001b[39;00m\n\u001b[1;32m   3728\u001b[0m \u001b[38;5;124;03melse return the existing one.\"\"\"\u001b[39;00m\n\u001b[1;32m   3729\u001b[0m \u001b[38;5;28;01mif\u001b[39;00m Turtle\u001b[38;5;241m.\u001b[39m_screen \u001b[38;5;129;01mis\u001b[39;00m \u001b[38;5;28;01mNone\u001b[39;00m:\n\u001b[0;32m-> 3730\u001b[0m     Turtle\u001b[38;5;241m.\u001b[39m_screen \u001b[38;5;241m=\u001b[39m \u001b[43m_Screen\u001b[49m\u001b[43m(\u001b[49m\u001b[43m)\u001b[49m\n\u001b[1;32m   3731\u001b[0m \u001b[38;5;28;01mreturn\u001b[39;00m Turtle\u001b[38;5;241m.\u001b[39m_screen\n",
      "File \u001b[0;32m/usr/local/python/3.12.1/lib/python3.12/turtle.py:3741\u001b[0m, in \u001b[0;36m_Screen.__init__\u001b[0;34m(self)\u001b[0m\n\u001b[1;32m   3739\u001b[0m \u001b[38;5;28;01mdef\u001b[39;00m \u001b[38;5;21m__init__\u001b[39m(\u001b[38;5;28mself\u001b[39m):\n\u001b[1;32m   3740\u001b[0m     \u001b[38;5;28;01mif\u001b[39;00m _Screen\u001b[38;5;241m.\u001b[39m_root \u001b[38;5;129;01mis\u001b[39;00m \u001b[38;5;28;01mNone\u001b[39;00m:\n\u001b[0;32m-> 3741\u001b[0m         _Screen\u001b[38;5;241m.\u001b[39m_root \u001b[38;5;241m=\u001b[39m \u001b[38;5;28mself\u001b[39m\u001b[38;5;241m.\u001b[39m_root \u001b[38;5;241m=\u001b[39m \u001b[43m_Root\u001b[49m\u001b[43m(\u001b[49m\u001b[43m)\u001b[49m\n\u001b[1;32m   3742\u001b[0m         \u001b[38;5;28mself\u001b[39m\u001b[38;5;241m.\u001b[39m_root\u001b[38;5;241m.\u001b[39mtitle(_Screen\u001b[38;5;241m.\u001b[39m_title)\n\u001b[1;32m   3743\u001b[0m         \u001b[38;5;28mself\u001b[39m\u001b[38;5;241m.\u001b[39m_root\u001b[38;5;241m.\u001b[39mondestroy(\u001b[38;5;28mself\u001b[39m\u001b[38;5;241m.\u001b[39m_destroy)\n",
      "File \u001b[0;32m/usr/local/python/3.12.1/lib/python3.12/turtle.py:430\u001b[0m, in \u001b[0;36m_Root.__init__\u001b[0;34m(self)\u001b[0m\n\u001b[1;32m    429\u001b[0m \u001b[38;5;28;01mdef\u001b[39;00m \u001b[38;5;21m__init__\u001b[39m(\u001b[38;5;28mself\u001b[39m):\n\u001b[0;32m--> 430\u001b[0m     \u001b[43mTK\u001b[49m\u001b[38;5;241;43m.\u001b[39;49m\u001b[43mTk\u001b[49m\u001b[38;5;241;43m.\u001b[39;49m\u001b[38;5;21;43m__init__\u001b[39;49m\u001b[43m(\u001b[49m\u001b[38;5;28;43mself\u001b[39;49m\u001b[43m)\u001b[49m\n",
      "File \u001b[0;32m/usr/local/python/3.12.1/lib/python3.12/tkinter/__init__.py:2340\u001b[0m, in \u001b[0;36mTk.__init__\u001b[0;34m(self, screenName, baseName, className, useTk, sync, use)\u001b[0m\n\u001b[1;32m   2338\u001b[0m         baseName \u001b[38;5;241m=\u001b[39m baseName \u001b[38;5;241m+\u001b[39m ext\n\u001b[1;32m   2339\u001b[0m interactive \u001b[38;5;241m=\u001b[39m \u001b[38;5;28;01mFalse\u001b[39;00m\n\u001b[0;32m-> 2340\u001b[0m \u001b[38;5;28mself\u001b[39m\u001b[38;5;241m.\u001b[39mtk \u001b[38;5;241m=\u001b[39m \u001b[43m_tkinter\u001b[49m\u001b[38;5;241;43m.\u001b[39;49m\u001b[43mcreate\u001b[49m\u001b[43m(\u001b[49m\u001b[43mscreenName\u001b[49m\u001b[43m,\u001b[49m\u001b[43m \u001b[49m\u001b[43mbaseName\u001b[49m\u001b[43m,\u001b[49m\u001b[43m \u001b[49m\u001b[43mclassName\u001b[49m\u001b[43m,\u001b[49m\u001b[43m \u001b[49m\u001b[43minteractive\u001b[49m\u001b[43m,\u001b[49m\u001b[43m \u001b[49m\u001b[43mwantobjects\u001b[49m\u001b[43m,\u001b[49m\u001b[43m \u001b[49m\u001b[43museTk\u001b[49m\u001b[43m,\u001b[49m\u001b[43m \u001b[49m\u001b[43msync\u001b[49m\u001b[43m,\u001b[49m\u001b[43m \u001b[49m\u001b[43muse\u001b[49m\u001b[43m)\u001b[49m\n\u001b[1;32m   2341\u001b[0m \u001b[38;5;28;01mif\u001b[39;00m useTk:\n\u001b[1;32m   2342\u001b[0m     \u001b[38;5;28mself\u001b[39m\u001b[38;5;241m.\u001b[39m_loadtk()\n",
      "\u001b[0;31mTclError\u001b[0m: no display name and no $DISPLAY environment variable"
     ]
    }
   ],
   "source": [
    "import turtle\n",
    "my_turtle = turtle.Turtle()\n",
    "my_turtle.forward(100)\n",
    "turtle.done()"
   ]
  }
 ],
 "metadata": {
  "kernelspec": {
   "display_name": "Python 3 (ipykernel)",
   "language": "python",
   "name": "python3"
  },
  "language_info": {
   "codemirror_mode": {
    "name": "ipython",
    "version": 3
   },
   "file_extension": ".py",
   "mimetype": "text/x-python",
   "name": "python",
   "nbconvert_exporter": "python",
   "pygments_lexer": "ipython3",
   "version": "3.12.1"
  }
 },
 "nbformat": 4,
 "nbformat_minor": 2
}
